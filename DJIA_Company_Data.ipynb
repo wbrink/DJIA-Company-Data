{
 "cells": [
  {
   "cell_type": "code",
   "execution_count": 1,
   "metadata": {},
   "outputs": [],
   "source": [
    "import pandas as pd\n",
    "import seaborn as sns\n",
    "import matplotlib.pyplot as plt\n",
    "import requests\n",
    "import quandl\n",
    "from bs4 import BeautifulSoup\n",
    "import os\n",
    "import datetime\n",
    "\n",
    "sns.set()\n",
    "%matplotlib inline"
   ]
  },
  {
   "cell_type": "code",
   "execution_count": 2,
   "metadata": {},
   "outputs": [],
   "source": [
    "resp = requests.get(\"https://en.wikipedia.org/wiki/Dow_Jones_Industrial_Average\")\n",
    "soup = BeautifulSoup(resp.text, 'lxml')\n",
    "table = soup.find('table', class_='wikitable sortable')"
   ]
  },
  {
   "cell_type": "code",
   "execution_count": 3,
   "metadata": {},
   "outputs": [],
   "source": [
    "tickers = []\n",
    "for row in table.find_all('tr')[1:]: # the first is the header\n",
    "    ticker = row.find_all('td')[2]   # exchange and co. precedes ticker\n",
    "    tickers.append(ticker.get_text())"
   ]
  },
  {
   "cell_type": "code",
   "execution_count": 4,
   "metadata": {},
   "outputs": [
    {
     "data": {
      "text/plain": [
       "['MMM',\n",
       " 'AXP',\n",
       " 'AAPL',\n",
       " 'BA',\n",
       " 'CAT',\n",
       " 'CVX',\n",
       " 'CSCO',\n",
       " 'KO',\n",
       " 'DWDP',\n",
       " 'XOM',\n",
       " 'GE',\n",
       " 'GS',\n",
       " 'HD',\n",
       " 'IBM',\n",
       " 'INTC',\n",
       " 'JNJ',\n",
       " 'JPM',\n",
       " 'MCD',\n",
       " 'MRK',\n",
       " 'MSFT',\n",
       " 'NKE',\n",
       " 'PFE',\n",
       " 'PG',\n",
       " 'TRV',\n",
       " 'UNH',\n",
       " 'UTX',\n",
       " 'VZ',\n",
       " 'V',\n",
       " 'WMT',\n",
       " 'DIS']"
      ]
     },
     "execution_count": 4,
     "metadata": {},
     "output_type": "execute_result"
    }
   ],
   "source": [
    "tickers"
   ]
  },
  {
   "cell_type": "code",
   "execution_count": 5,
   "metadata": {},
   "outputs": [
    {
     "name": "stdout",
     "output_type": "stream",
     "text": [
      "Directory already exists\n"
     ]
    }
   ],
   "source": [
    "if os.path.exists('DJIA_Data'):\n",
    "    print(\"Directory already exists\")\n",
    "else:\n",
    "    os.mkdir('DJIA_Data') # make a directory for the data\n",
    "    print(\"Created Directory: 'DJIA_Data'\")"
   ]
  },
  {
   "cell_type": "code",
   "execution_count": 6,
   "metadata": {},
   "outputs": [
    {
     "name": "stdout",
     "output_type": "stream",
     "text": [
      "<class 'pandas.core.frame.DataFrame'>\n"
     ]
    }
   ],
   "source": [
    "# shows that the data from quandl is a pandas dataframe\n",
    "data = quandl.get(\"WIKI/{}\".format('MMM'))\n",
    "print(type(data))"
   ]
  },
  {
   "cell_type": "code",
   "execution_count": 8,
   "metadata": {},
   "outputs": [
    {
     "name": "stdout",
     "output_type": "stream",
     "text": [
      "MMM.csv created\n",
      "AXP.csv created\n",
      "AAPL.csv created\n",
      "BA.csv created\n",
      "CAT.csv created\n",
      "CVX.csv created\n",
      "CSCO.csv created\n",
      "KO.csv created\n",
      "DWDP.csv created\n",
      "XOM.csv created\n",
      "GE.csv created\n",
      "GS.csv created\n",
      "HD.csv created\n",
      "IBM.csv created\n",
      "INTC.csv created\n",
      "JNJ.csv created\n",
      "JPM.csv created\n",
      "MCD.csv created\n",
      "MRK.csv created\n",
      "MSFT.csv created\n",
      "NKE.csv created\n",
      "PFE.csv created\n",
      "PG.csv created\n",
      "TRV.csv created\n",
      "UNH.csv created\n",
      "UTX.csv created\n",
      "VZ.csv created\n",
      "V.csv created\n",
      "WMT.csv created\n",
      "DIS.csv created\n"
     ]
    }
   ],
   "source": [
    "# collect all the data we can for each company from quandl\n",
    "for i in tickers:\n",
    "    df = quandl.get('WIKI/{}'.format(i))\n",
    "    df.to_csv(r'DJIA_Data\\{}.csv'.format(i))\n",
    "    print(str(i)+'.csv created') "
   ]
  },
  {
   "cell_type": "code",
   "execution_count": 9,
   "metadata": {},
   "outputs": [
    {
     "data": {
      "text/html": [
       "<div>\n",
       "<style scoped>\n",
       "    .dataframe tbody tr th:only-of-type {\n",
       "        vertical-align: middle;\n",
       "    }\n",
       "\n",
       "    .dataframe tbody tr th {\n",
       "        vertical-align: top;\n",
       "    }\n",
       "\n",
       "    .dataframe thead th {\n",
       "        text-align: right;\n",
       "    }\n",
       "</style>\n",
       "<table border=\"1\" class=\"dataframe\">\n",
       "  <thead>\n",
       "    <tr style=\"text-align: right;\">\n",
       "      <th></th>\n",
       "      <th>Date</th>\n",
       "      <th>Open</th>\n",
       "      <th>High</th>\n",
       "      <th>Low</th>\n",
       "      <th>Close</th>\n",
       "      <th>Volume</th>\n",
       "      <th>Ex-Dividend</th>\n",
       "      <th>Split Ratio</th>\n",
       "      <th>Adj. Open</th>\n",
       "      <th>Adj. High</th>\n",
       "      <th>Adj. Low</th>\n",
       "      <th>Adj. Close</th>\n",
       "      <th>Adj. Volume</th>\n",
       "    </tr>\n",
       "  </thead>\n",
       "  <tbody>\n",
       "    <tr>\n",
       "      <th>0</th>\n",
       "      <td>1970-01-02</td>\n",
       "      <td>109.62</td>\n",
       "      <td>110.25</td>\n",
       "      <td>109.50</td>\n",
       "      <td>109.62</td>\n",
       "      <td>4500.0</td>\n",
       "      <td>0.0</td>\n",
       "      <td>1.0</td>\n",
       "      <td>2.927425</td>\n",
       "      <td>2.944250</td>\n",
       "      <td>2.924221</td>\n",
       "      <td>2.927425</td>\n",
       "      <td>72000.0</td>\n",
       "    </tr>\n",
       "    <tr>\n",
       "      <th>1</th>\n",
       "      <td>1970-01-05</td>\n",
       "      <td>109.75</td>\n",
       "      <td>110.38</td>\n",
       "      <td>109.75</td>\n",
       "      <td>110.25</td>\n",
       "      <td>27900.0</td>\n",
       "      <td>0.0</td>\n",
       "      <td>1.0</td>\n",
       "      <td>2.930897</td>\n",
       "      <td>2.947721</td>\n",
       "      <td>2.930897</td>\n",
       "      <td>2.944250</td>\n",
       "      <td>446400.0</td>\n",
       "    </tr>\n",
       "    <tr>\n",
       "      <th>2</th>\n",
       "      <td>1970-01-06</td>\n",
       "      <td>110.25</td>\n",
       "      <td>111.38</td>\n",
       "      <td>110.12</td>\n",
       "      <td>111.38</td>\n",
       "      <td>11000.0</td>\n",
       "      <td>0.0</td>\n",
       "      <td>1.0</td>\n",
       "      <td>2.944250</td>\n",
       "      <td>2.974427</td>\n",
       "      <td>2.940778</td>\n",
       "      <td>2.974427</td>\n",
       "      <td>176000.0</td>\n",
       "    </tr>\n",
       "    <tr>\n",
       "      <th>3</th>\n",
       "      <td>1970-01-07</td>\n",
       "      <td>111.38</td>\n",
       "      <td>112.25</td>\n",
       "      <td>111.12</td>\n",
       "      <td>112.00</td>\n",
       "      <td>10300.0</td>\n",
       "      <td>0.0</td>\n",
       "      <td>1.0</td>\n",
       "      <td>2.974427</td>\n",
       "      <td>2.997660</td>\n",
       "      <td>2.967483</td>\n",
       "      <td>2.990984</td>\n",
       "      <td>164800.0</td>\n",
       "    </tr>\n",
       "    <tr>\n",
       "      <th>4</th>\n",
       "      <td>1970-01-08</td>\n",
       "      <td>112.00</td>\n",
       "      <td>113.75</td>\n",
       "      <td>111.75</td>\n",
       "      <td>113.50</td>\n",
       "      <td>19000.0</td>\n",
       "      <td>0.0</td>\n",
       "      <td>1.0</td>\n",
       "      <td>2.990984</td>\n",
       "      <td>3.037718</td>\n",
       "      <td>2.984307</td>\n",
       "      <td>3.031042</td>\n",
       "      <td>304000.0</td>\n",
       "    </tr>\n",
       "  </tbody>\n",
       "</table>\n",
       "</div>"
      ],
      "text/plain": [
       "         Date    Open    High     Low   Close   Volume  Ex-Dividend  \\\n",
       "0  1970-01-02  109.62  110.25  109.50  109.62   4500.0          0.0   \n",
       "1  1970-01-05  109.75  110.38  109.75  110.25  27900.0          0.0   \n",
       "2  1970-01-06  110.25  111.38  110.12  111.38  11000.0          0.0   \n",
       "3  1970-01-07  111.38  112.25  111.12  112.00  10300.0          0.0   \n",
       "4  1970-01-08  112.00  113.75  111.75  113.50  19000.0          0.0   \n",
       "\n",
       "   Split Ratio  Adj. Open  Adj. High  Adj. Low  Adj. Close  Adj. Volume  \n",
       "0          1.0   2.927425   2.944250  2.924221    2.927425      72000.0  \n",
       "1          1.0   2.930897   2.947721  2.930897    2.944250     446400.0  \n",
       "2          1.0   2.944250   2.974427  2.940778    2.974427     176000.0  \n",
       "3          1.0   2.974427   2.997660  2.967483    2.990984     164800.0  \n",
       "4          1.0   2.990984   3.037718  2.984307    3.031042     304000.0  "
      ]
     },
     "execution_count": 9,
     "metadata": {},
     "output_type": "execute_result"
    }
   ],
   "source": [
    "df = pd.read_csv(r\"DJIA_Data\\MMM.csv\")\n",
    "df.head()"
   ]
  },
  {
   "cell_type": "code",
   "execution_count": 10,
   "metadata": {},
   "outputs": [
    {
     "data": {
      "text/plain": [
       "Date            object\n",
       "Open           float64\n",
       "High           float64\n",
       "Low            float64\n",
       "Close          float64\n",
       "Volume         float64\n",
       "Ex-Dividend    float64\n",
       "Split Ratio    float64\n",
       "Adj. Open      float64\n",
       "Adj. High      float64\n",
       "Adj. Low       float64\n",
       "Adj. Close     float64\n",
       "Adj. Volume    float64\n",
       "dtype: object"
      ]
     },
     "execution_count": 10,
     "metadata": {},
     "output_type": "execute_result"
    }
   ],
   "source": [
    "df.dtypes"
   ]
  },
  {
   "cell_type": "code",
   "execution_count": 11,
   "metadata": {},
   "outputs": [],
   "source": [
    "df.Date = pd.to_datetime(df.Date)"
   ]
  },
  {
   "cell_type": "code",
   "execution_count": 12,
   "metadata": {},
   "outputs": [
    {
     "data": {
      "text/plain": [
       "Date           datetime64[ns]\n",
       "Open                  float64\n",
       "High                  float64\n",
       "Low                   float64\n",
       "Close                 float64\n",
       "Volume                float64\n",
       "Ex-Dividend           float64\n",
       "Split Ratio           float64\n",
       "Adj. Open             float64\n",
       "Adj. High             float64\n",
       "Adj. Low              float64\n",
       "Adj. Close            float64\n",
       "Adj. Volume           float64\n",
       "dtype: object"
      ]
     },
     "execution_count": 12,
     "metadata": {},
     "output_type": "execute_result"
    }
   ],
   "source": [
    "df.dtypes # shows that above function changes the Date to datetime object"
   ]
  },
  {
   "cell_type": "code",
   "execution_count": 13,
   "metadata": {},
   "outputs": [],
   "source": [
    "# we want the adjusted closes for each company in one DataFrame\n",
    "df_main = pd.DataFrame()\n",
    "for i in tickers:\n",
    "    df = pd.read_csv(r'DJIA_Data\\{}.csv'.format(i))  # creates DataFrame from the csv file\n",
    "    df.Date = pd.to_datetime(df.Date)\n",
    "    df.set_index('Date', inplace=True) # to join we need common indecis\n",
    "    df.rename(columns={'Adj. Close': i}, inplace=True)\n",
    "    df.drop(['Open', 'High', 'Low', 'Close', 'Volume', 'Ex-Dividend', 'Split Ratio', 'Adj. Open', 'Adj. High', 'Adj. Low', 'Adj. Volume'], axis=1, inplace=True)\n",
    "    if df_main.empty:  # if its empty this statement returns True\n",
    "        df_main = df\n",
    "    else:\n",
    "        df_main = df_main.join(df, how='outer')  # ensure that we do not lose any data with 'outer'"
   ]
  },
  {
   "cell_type": "code",
   "execution_count": 14,
   "metadata": {},
   "outputs": [
    {
     "data": {
      "text/html": [
       "<div>\n",
       "<style scoped>\n",
       "    .dataframe tbody tr th:only-of-type {\n",
       "        vertical-align: middle;\n",
       "    }\n",
       "\n",
       "    .dataframe tbody tr th {\n",
       "        vertical-align: top;\n",
       "    }\n",
       "\n",
       "    .dataframe thead th {\n",
       "        text-align: right;\n",
       "    }\n",
       "</style>\n",
       "<table border=\"1\" class=\"dataframe\">\n",
       "  <thead>\n",
       "    <tr style=\"text-align: right;\">\n",
       "      <th></th>\n",
       "      <th>MMM</th>\n",
       "      <th>AXP</th>\n",
       "      <th>AAPL</th>\n",
       "      <th>BA</th>\n",
       "      <th>CAT</th>\n",
       "      <th>CVX</th>\n",
       "      <th>CSCO</th>\n",
       "      <th>KO</th>\n",
       "      <th>DWDP</th>\n",
       "      <th>XOM</th>\n",
       "      <th>...</th>\n",
       "      <th>NKE</th>\n",
       "      <th>PFE</th>\n",
       "      <th>PG</th>\n",
       "      <th>TRV</th>\n",
       "      <th>UNH</th>\n",
       "      <th>UTX</th>\n",
       "      <th>VZ</th>\n",
       "      <th>V</th>\n",
       "      <th>WMT</th>\n",
       "      <th>DIS</th>\n",
       "    </tr>\n",
       "    <tr>\n",
       "      <th>Date</th>\n",
       "      <th></th>\n",
       "      <th></th>\n",
       "      <th></th>\n",
       "      <th></th>\n",
       "      <th></th>\n",
       "      <th></th>\n",
       "      <th></th>\n",
       "      <th></th>\n",
       "      <th></th>\n",
       "      <th></th>\n",
       "      <th></th>\n",
       "      <th></th>\n",
       "      <th></th>\n",
       "      <th></th>\n",
       "      <th></th>\n",
       "      <th></th>\n",
       "      <th></th>\n",
       "      <th></th>\n",
       "      <th></th>\n",
       "      <th></th>\n",
       "      <th></th>\n",
       "    </tr>\n",
       "  </thead>\n",
       "  <tbody>\n",
       "    <tr>\n",
       "      <th>1962-01-02</th>\n",
       "      <td>NaN</td>\n",
       "      <td>NaN</td>\n",
       "      <td>NaN</td>\n",
       "      <td>0.871816</td>\n",
       "      <td>1.578370</td>\n",
       "      <td>NaN</td>\n",
       "      <td>NaN</td>\n",
       "      <td>0.262323</td>\n",
       "      <td>NaN</td>\n",
       "      <td>NaN</td>\n",
       "      <td>...</td>\n",
       "      <td>NaN</td>\n",
       "      <td>NaN</td>\n",
       "      <td>NaN</td>\n",
       "      <td>NaN</td>\n",
       "      <td>NaN</td>\n",
       "      <td>NaN</td>\n",
       "      <td>NaN</td>\n",
       "      <td>NaN</td>\n",
       "      <td>NaN</td>\n",
       "      <td>0.141259</td>\n",
       "    </tr>\n",
       "    <tr>\n",
       "      <th>1962-01-03</th>\n",
       "      <td>NaN</td>\n",
       "      <td>NaN</td>\n",
       "      <td>NaN</td>\n",
       "      <td>0.889252</td>\n",
       "      <td>1.593539</td>\n",
       "      <td>NaN</td>\n",
       "      <td>NaN</td>\n",
       "      <td>0.256479</td>\n",
       "      <td>NaN</td>\n",
       "      <td>NaN</td>\n",
       "      <td>...</td>\n",
       "      <td>NaN</td>\n",
       "      <td>NaN</td>\n",
       "      <td>NaN</td>\n",
       "      <td>NaN</td>\n",
       "      <td>NaN</td>\n",
       "      <td>NaN</td>\n",
       "      <td>NaN</td>\n",
       "      <td>NaN</td>\n",
       "      <td>NaN</td>\n",
       "      <td>0.143155</td>\n",
       "    </tr>\n",
       "    <tr>\n",
       "      <th>1962-01-04</th>\n",
       "      <td>NaN</td>\n",
       "      <td>NaN</td>\n",
       "      <td>NaN</td>\n",
       "      <td>0.880534</td>\n",
       "      <td>1.634945</td>\n",
       "      <td>NaN</td>\n",
       "      <td>NaN</td>\n",
       "      <td>0.258427</td>\n",
       "      <td>NaN</td>\n",
       "      <td>NaN</td>\n",
       "      <td>...</td>\n",
       "      <td>NaN</td>\n",
       "      <td>NaN</td>\n",
       "      <td>NaN</td>\n",
       "      <td>NaN</td>\n",
       "      <td>NaN</td>\n",
       "      <td>NaN</td>\n",
       "      <td>NaN</td>\n",
       "      <td>NaN</td>\n",
       "      <td>NaN</td>\n",
       "      <td>0.143155</td>\n",
       "    </tr>\n",
       "    <tr>\n",
       "      <th>1962-01-05</th>\n",
       "      <td>NaN</td>\n",
       "      <td>NaN</td>\n",
       "      <td>NaN</td>\n",
       "      <td>0.863098</td>\n",
       "      <td>1.650114</td>\n",
       "      <td>NaN</td>\n",
       "      <td>NaN</td>\n",
       "      <td>0.252583</td>\n",
       "      <td>NaN</td>\n",
       "      <td>NaN</td>\n",
       "      <td>...</td>\n",
       "      <td>NaN</td>\n",
       "      <td>NaN</td>\n",
       "      <td>NaN</td>\n",
       "      <td>NaN</td>\n",
       "      <td>NaN</td>\n",
       "      <td>NaN</td>\n",
       "      <td>NaN</td>\n",
       "      <td>NaN</td>\n",
       "      <td>NaN</td>\n",
       "      <td>0.143648</td>\n",
       "    </tr>\n",
       "    <tr>\n",
       "      <th>1962-01-08</th>\n",
       "      <td>NaN</td>\n",
       "      <td>NaN</td>\n",
       "      <td>NaN</td>\n",
       "      <td>0.865190</td>\n",
       "      <td>1.660363</td>\n",
       "      <td>NaN</td>\n",
       "      <td>NaN</td>\n",
       "      <td>0.249986</td>\n",
       "      <td>NaN</td>\n",
       "      <td>NaN</td>\n",
       "      <td>...</td>\n",
       "      <td>NaN</td>\n",
       "      <td>NaN</td>\n",
       "      <td>NaN</td>\n",
       "      <td>NaN</td>\n",
       "      <td>NaN</td>\n",
       "      <td>NaN</td>\n",
       "      <td>NaN</td>\n",
       "      <td>NaN</td>\n",
       "      <td>NaN</td>\n",
       "      <td>0.143155</td>\n",
       "    </tr>\n",
       "  </tbody>\n",
       "</table>\n",
       "<p>5 rows × 30 columns</p>\n",
       "</div>"
      ],
      "text/plain": [
       "            MMM  AXP  AAPL        BA       CAT  CVX  CSCO        KO  DWDP  \\\n",
       "Date                                                                        \n",
       "1962-01-02  NaN  NaN   NaN  0.871816  1.578370  NaN   NaN  0.262323   NaN   \n",
       "1962-01-03  NaN  NaN   NaN  0.889252  1.593539  NaN   NaN  0.256479   NaN   \n",
       "1962-01-04  NaN  NaN   NaN  0.880534  1.634945  NaN   NaN  0.258427   NaN   \n",
       "1962-01-05  NaN  NaN   NaN  0.863098  1.650114  NaN   NaN  0.252583   NaN   \n",
       "1962-01-08  NaN  NaN   NaN  0.865190  1.660363  NaN   NaN  0.249986   NaN   \n",
       "\n",
       "            XOM    ...     NKE  PFE  PG  TRV  UNH  UTX  VZ   V  WMT       DIS  \n",
       "Date               ...                                                         \n",
       "1962-01-02  NaN    ...     NaN  NaN NaN  NaN  NaN  NaN NaN NaN  NaN  0.141259  \n",
       "1962-01-03  NaN    ...     NaN  NaN NaN  NaN  NaN  NaN NaN NaN  NaN  0.143155  \n",
       "1962-01-04  NaN    ...     NaN  NaN NaN  NaN  NaN  NaN NaN NaN  NaN  0.143155  \n",
       "1962-01-05  NaN    ...     NaN  NaN NaN  NaN  NaN  NaN NaN NaN  NaN  0.143648  \n",
       "1962-01-08  NaN    ...     NaN  NaN NaN  NaN  NaN  NaN NaN NaN  NaN  0.143155  \n",
       "\n",
       "[5 rows x 30 columns]"
      ]
     },
     "execution_count": 14,
     "metadata": {},
     "output_type": "execute_result"
    }
   ],
   "source": [
    "df_main.head()"
   ]
  },
  {
   "cell_type": "code",
   "execution_count": 15,
   "metadata": {},
   "outputs": [
    {
     "data": {
      "text/html": [
       "<div>\n",
       "<style scoped>\n",
       "    .dataframe tbody tr th:only-of-type {\n",
       "        vertical-align: middle;\n",
       "    }\n",
       "\n",
       "    .dataframe tbody tr th {\n",
       "        vertical-align: top;\n",
       "    }\n",
       "\n",
       "    .dataframe thead th {\n",
       "        text-align: right;\n",
       "    }\n",
       "</style>\n",
       "<table border=\"1\" class=\"dataframe\">\n",
       "  <thead>\n",
       "    <tr style=\"text-align: right;\">\n",
       "      <th></th>\n",
       "      <th>Date</th>\n",
       "      <th>MMM</th>\n",
       "      <th>AXP</th>\n",
       "      <th>AAPL</th>\n",
       "      <th>BA</th>\n",
       "      <th>CAT</th>\n",
       "      <th>CVX</th>\n",
       "      <th>CSCO</th>\n",
       "      <th>KO</th>\n",
       "      <th>DWDP</th>\n",
       "      <th>...</th>\n",
       "      <th>NKE</th>\n",
       "      <th>PFE</th>\n",
       "      <th>PG</th>\n",
       "      <th>TRV</th>\n",
       "      <th>UNH</th>\n",
       "      <th>UTX</th>\n",
       "      <th>VZ</th>\n",
       "      <th>V</th>\n",
       "      <th>WMT</th>\n",
       "      <th>DIS</th>\n",
       "    </tr>\n",
       "  </thead>\n",
       "  <tbody>\n",
       "    <tr>\n",
       "      <th>0</th>\n",
       "      <td>1962-01-02</td>\n",
       "      <td>NaN</td>\n",
       "      <td>NaN</td>\n",
       "      <td>NaN</td>\n",
       "      <td>0.871816</td>\n",
       "      <td>1.578370</td>\n",
       "      <td>NaN</td>\n",
       "      <td>NaN</td>\n",
       "      <td>0.262323</td>\n",
       "      <td>NaN</td>\n",
       "      <td>...</td>\n",
       "      <td>NaN</td>\n",
       "      <td>NaN</td>\n",
       "      <td>NaN</td>\n",
       "      <td>NaN</td>\n",
       "      <td>NaN</td>\n",
       "      <td>NaN</td>\n",
       "      <td>NaN</td>\n",
       "      <td>NaN</td>\n",
       "      <td>NaN</td>\n",
       "      <td>0.141259</td>\n",
       "    </tr>\n",
       "    <tr>\n",
       "      <th>1</th>\n",
       "      <td>1962-01-03</td>\n",
       "      <td>NaN</td>\n",
       "      <td>NaN</td>\n",
       "      <td>NaN</td>\n",
       "      <td>0.889252</td>\n",
       "      <td>1.593539</td>\n",
       "      <td>NaN</td>\n",
       "      <td>NaN</td>\n",
       "      <td>0.256479</td>\n",
       "      <td>NaN</td>\n",
       "      <td>...</td>\n",
       "      <td>NaN</td>\n",
       "      <td>NaN</td>\n",
       "      <td>NaN</td>\n",
       "      <td>NaN</td>\n",
       "      <td>NaN</td>\n",
       "      <td>NaN</td>\n",
       "      <td>NaN</td>\n",
       "      <td>NaN</td>\n",
       "      <td>NaN</td>\n",
       "      <td>0.143155</td>\n",
       "    </tr>\n",
       "  </tbody>\n",
       "</table>\n",
       "<p>2 rows × 31 columns</p>\n",
       "</div>"
      ],
      "text/plain": [
       "        Date  MMM  AXP  AAPL        BA       CAT  CVX  CSCO        KO  DWDP  \\\n",
       "0 1962-01-02  NaN  NaN   NaN  0.871816  1.578370  NaN   NaN  0.262323   NaN   \n",
       "1 1962-01-03  NaN  NaN   NaN  0.889252  1.593539  NaN   NaN  0.256479   NaN   \n",
       "\n",
       "     ...     NKE  PFE  PG  TRV  UNH  UTX  VZ   V  WMT       DIS  \n",
       "0    ...     NaN  NaN NaN  NaN  NaN  NaN NaN NaN  NaN  0.141259  \n",
       "1    ...     NaN  NaN NaN  NaN  NaN  NaN NaN NaN  NaN  0.143155  \n",
       "\n",
       "[2 rows x 31 columns]"
      ]
     },
     "execution_count": 15,
     "metadata": {},
     "output_type": "execute_result"
    }
   ],
   "source": [
    "df_main.reset_index(inplace=True)\n",
    "df_main.head(2)"
   ]
  },
  {
   "cell_type": "code",
   "execution_count": 16,
   "metadata": {},
   "outputs": [],
   "source": [
    "df_main = df_main[df_main.Date > datetime.datetime(1999, 12, 31)] # boolean indexing"
   ]
  },
  {
   "cell_type": "code",
   "execution_count": 17,
   "metadata": {},
   "outputs": [],
   "source": [
    "df_main.head(2)\n",
    "df_main.to_csv(\"DJIA_co_data_since2000.csv\") # saves time in case you want to load it into another script"
   ]
  },
  {
   "cell_type": "code",
   "execution_count": 18,
   "metadata": {},
   "outputs": [
    {
     "data": {
      "text/plain": [
       "<matplotlib.axes._subplots.AxesSubplot at 0x2d2a3f0>"
      ]
     },
     "execution_count": 18,
     "metadata": {},
     "output_type": "execute_result"
    },
    {
     "data": {
      "image/png": "[encoded data removed]",
      "text/plain": [
       "<matplotlib.figure.Figure at 0x13148310>"
      ]
     },
     "metadata": {},
     "output_type": "display_data"
    }
   ],
   "source": [
    "df_main.plot(x='Date', y='MSFT')"
   ]
  },
  {
   "cell_type": "code",
   "execution_count": 19,
   "metadata": {},
   "outputs": [
    {
     "data": {
      "text/plain": [
       "<matplotlib.axes._subplots.AxesSubplot at 0x2c22df0>"
      ]
     },
     "execution_count": 19,
     "metadata": {},
     "output_type": "execute_result"
    },
    {
     "data": {
      "image/png": "[encoded data removed]",
      "text/plain": [
       "<matplotlib.figure.Figure at 0x2c4b0b0>"
      ]
     },
     "metadata": {},
     "output_type": "display_data"
    }
   ],
   "source": [
    "# plotting columns against one another with date as index\n",
    "df_main.set_index('Date', inplace=True) \n",
    "df_main[['MSFT', 'AAPL']].plot(figsize=(10,5))"
   ]
  },
  {
   "cell_type": "code",
   "execution_count": 20,
   "metadata": {},
   "outputs": [
    {
     "data": {
      "text/plain": [
       "pandas.core.frame.DataFrame"
      ]
     },
     "execution_count": 20,
     "metadata": {},
     "output_type": "execute_result"
    }
   ],
   "source": [
    "type(df_main[['MSFT', 'AAPL']]) # shows that >1 series together is a dataframe"
   ]
  },
  {
   "cell_type": "code",
   "execution_count": 21,
   "metadata": {},
   "outputs": [
    {
     "data": {
      "text/plain": [
       "pandas.core.series.Series"
      ]
     },
     "execution_count": 21,
     "metadata": {},
     "output_type": "execute_result"
    }
   ],
   "source": [
    "type(df_main['MSFT']) # 1 column and index means series"
   ]
  },
  {
   "cell_type": "code",
   "execution_count": 22,
   "metadata": {},
   "outputs": [],
   "source": [
    "# Correlation Table for all the companies\n",
    "# dates have to be set as index for this which they were set in previous 'In'\n",
    "df_main_corr = df_main.corr()"
   ]
  },
  {
   "cell_type": "code",
   "execution_count": 23,
   "metadata": {},
   "outputs": [
    {
     "data": {
      "text/html": [
       "<div>\n",
       "<style scoped>\n",
       "    .dataframe tbody tr th:only-of-type {\n",
       "        vertical-align: middle;\n",
       "    }\n",
       "\n",
       "    .dataframe tbody tr th {\n",
       "        vertical-align: top;\n",
       "    }\n",
       "\n",
       "    .dataframe thead th {\n",
       "        text-align: right;\n",
       "    }\n",
       "</style>\n",
       "<table border=\"1\" class=\"dataframe\">\n",
       "  <thead>\n",
       "    <tr style=\"text-align: right;\">\n",
       "      <th></th>\n",
       "      <th>MMM</th>\n",
       "      <th>AXP</th>\n",
       "      <th>AAPL</th>\n",
       "      <th>BA</th>\n",
       "      <th>CAT</th>\n",
       "      <th>CVX</th>\n",
       "      <th>CSCO</th>\n",
       "      <th>KO</th>\n",
       "      <th>DWDP</th>\n",
       "      <th>XOM</th>\n",
       "      <th>...</th>\n",
       "      <th>NKE</th>\n",
       "      <th>PFE</th>\n",
       "      <th>PG</th>\n",
       "      <th>TRV</th>\n",
       "      <th>UNH</th>\n",
       "      <th>UTX</th>\n",
       "      <th>VZ</th>\n",
       "      <th>V</th>\n",
       "      <th>WMT</th>\n",
       "      <th>DIS</th>\n",
       "    </tr>\n",
       "  </thead>\n",
       "  <tbody>\n",
       "    <tr>\n",
       "      <th>MMM</th>\n",
       "      <td>1.000000</td>\n",
       "      <td>0.870924</td>\n",
       "      <td>0.953348</td>\n",
       "      <td>0.957678</td>\n",
       "      <td>0.820551</td>\n",
       "      <td>0.836818</td>\n",
       "      <td>0.255677</td>\n",
       "      <td>0.925253</td>\n",
       "      <td>0.698543</td>\n",
       "      <td>0.788979</td>\n",
       "      <td>...</td>\n",
       "      <td>0.959117</td>\n",
       "      <td>0.767587</td>\n",
       "      <td>0.938683</td>\n",
       "      <td>0.768138</td>\n",
       "      <td>0.968801</td>\n",
       "      <td>0.930004</td>\n",
       "      <td>0.910925</td>\n",
       "      <td>0.983558</td>\n",
       "      <td>0.891157</td>\n",
       "      <td>0.952289</td>\n",
       "    </tr>\n",
       "    <tr>\n",
       "      <th>AXP</th>\n",
       "      <td>0.870924</td>\n",
       "      <td>1.000000</td>\n",
       "      <td>0.865408</td>\n",
       "      <td>0.884942</td>\n",
       "      <td>0.839641</td>\n",
       "      <td>0.848536</td>\n",
       "      <td>0.343942</td>\n",
       "      <td>0.868176</td>\n",
       "      <td>0.753035</td>\n",
       "      <td>0.800219</td>\n",
       "      <td>...</td>\n",
       "      <td>0.847667</td>\n",
       "      <td>0.745994</td>\n",
       "      <td>0.872639</td>\n",
       "      <td>0.810081</td>\n",
       "      <td>0.827555</td>\n",
       "      <td>0.912778</td>\n",
       "      <td>0.871884</td>\n",
       "      <td>0.833023</td>\n",
       "      <td>0.866055</td>\n",
       "      <td>0.887032</td>\n",
       "    </tr>\n",
       "    <tr>\n",
       "      <th>AAPL</th>\n",
       "      <td>0.953348</td>\n",
       "      <td>0.865408</td>\n",
       "      <td>1.000000</td>\n",
       "      <td>0.919704</td>\n",
       "      <td>0.867614</td>\n",
       "      <td>0.890946</td>\n",
       "      <td>0.286608</td>\n",
       "      <td>0.962963</td>\n",
       "      <td>0.327912</td>\n",
       "      <td>0.827213</td>\n",
       "      <td>...</td>\n",
       "      <td>0.957864</td>\n",
       "      <td>0.739448</td>\n",
       "      <td>0.929461</td>\n",
       "      <td>0.643551</td>\n",
       "      <td>0.917660</td>\n",
       "      <td>0.936314</td>\n",
       "      <td>0.931818</td>\n",
       "      <td>0.949164</td>\n",
       "      <td>0.924094</td>\n",
       "      <td>0.947127</td>\n",
       "    </tr>\n",
       "    <tr>\n",
       "      <th>BA</th>\n",
       "      <td>0.957678</td>\n",
       "      <td>0.884942</td>\n",
       "      <td>0.919704</td>\n",
       "      <td>1.000000</td>\n",
       "      <td>0.836320</td>\n",
       "      <td>0.805526</td>\n",
       "      <td>0.360514</td>\n",
       "      <td>0.867461</td>\n",
       "      <td>0.683217</td>\n",
       "      <td>0.751905</td>\n",
       "      <td>...</td>\n",
       "      <td>0.893398</td>\n",
       "      <td>0.754538</td>\n",
       "      <td>0.883684</td>\n",
       "      <td>0.712855</td>\n",
       "      <td>0.959552</td>\n",
       "      <td>0.891394</td>\n",
       "      <td>0.854927</td>\n",
       "      <td>0.951468</td>\n",
       "      <td>0.850646</td>\n",
       "      <td>0.901834</td>\n",
       "    </tr>\n",
       "    <tr>\n",
       "      <th>CAT</th>\n",
       "      <td>0.820551</td>\n",
       "      <td>0.839641</td>\n",
       "      <td>0.867614</td>\n",
       "      <td>0.836320</td>\n",
       "      <td>1.000000</td>\n",
       "      <td>0.939570</td>\n",
       "      <td>0.109759</td>\n",
       "      <td>0.857823</td>\n",
       "      <td>0.710206</td>\n",
       "      <td>0.900343</td>\n",
       "      <td>...</td>\n",
       "      <td>0.799144</td>\n",
       "      <td>0.467149</td>\n",
       "      <td>0.902273</td>\n",
       "      <td>0.760273</td>\n",
       "      <td>0.789352</td>\n",
       "      <td>0.926156</td>\n",
       "      <td>0.794162</td>\n",
       "      <td>0.688352</td>\n",
       "      <td>0.799445</td>\n",
       "      <td>0.758487</td>\n",
       "    </tr>\n",
       "  </tbody>\n",
       "</table>\n",
       "<p>5 rows × 30 columns</p>\n",
       "</div>"
      ],
      "text/plain": [
       "           MMM       AXP      AAPL        BA       CAT       CVX      CSCO  \\\n",
       "MMM   1.000000  0.870924  0.953348  0.957678  0.820551  0.836818  0.255677   \n",
       "AXP   0.870924  1.000000  0.865408  0.884942  0.839641  0.848536  0.343942   \n",
       "AAPL  0.953348  0.865408  1.000000  0.919704  0.867614  0.890946  0.286608   \n",
       "BA    0.957678  0.884942  0.919704  1.000000  0.836320  0.805526  0.360514   \n",
       "CAT   0.820551  0.839641  0.867614  0.836320  1.000000  0.939570  0.109759   \n",
       "\n",
       "            KO      DWDP       XOM    ...          NKE       PFE        PG  \\\n",
       "MMM   0.925253  0.698543  0.788979    ...     0.959117  0.767587  0.938683   \n",
       "AXP   0.868176  0.753035  0.800219    ...     0.847667  0.745994  0.872639   \n",
       "AAPL  0.962963  0.327912  0.827213    ...     0.957864  0.739448  0.929461   \n",
       "BA    0.867461  0.683217  0.751905    ...     0.893398  0.754538  0.883684   \n",
       "CAT   0.857823  0.710206  0.900343    ...     0.799144  0.467149  0.902273   \n",
       "\n",
       "           TRV       UNH       UTX        VZ         V       WMT       DIS  \n",
       "MMM   0.768138  0.968801  0.930004  0.910925  0.983558  0.891157  0.952289  \n",
       "AXP   0.810081  0.827555  0.912778  0.871884  0.833023  0.866055  0.887032  \n",
       "AAPL  0.643551  0.917660  0.936314  0.931818  0.949164  0.924094  0.947127  \n",
       "BA    0.712855  0.959552  0.891394  0.854927  0.951468  0.850646  0.901834  \n",
       "CAT   0.760273  0.789352  0.926156  0.794162  0.688352  0.799445  0.758487  \n",
       "\n",
       "[5 rows x 30 columns]"
      ]
     },
     "execution_count": 23,
     "metadata": {},
     "output_type": "execute_result"
    }
   ],
   "source": [
    "df_main_corr.head()"
   ]
  },
  {
   "cell_type": "code",
   "execution_count": 24,
   "metadata": {},
   "outputs": [
    {
     "data": {
      "text/plain": [
       "<matplotlib.axes._subplots.AxesSubplot at 0x293a5f0>"
      ]
     },
     "execution_count": 24,
     "metadata": {},
     "output_type": "execute_result"
    },
    {
     "data": {
      "image/png": "[encoded data removed]",
      "text/plain": [
       "<matplotlib.figure.Figure at 0x2e0f470>"
      ]
     },
     "metadata": {},
     "output_type": "display_data"
    }
   ],
   "source": [
    "#using seaborn for heatmap\n",
    "plt.figure(figsize=(15,10)) # change the figure size\n",
    "sns.heatmap(df_main_corr, center=0, vmin=-1, vmax=1) "
   ]
  },
  {
   "cell_type": "code",
   "execution_count": null,
   "metadata": {},
   "outputs": [],
   "source": []
  }
 ],
 "metadata": {
  "kernelspec": {
   "display_name": "Python 3",
   "language": "python",
   "name": "python3"
  },
  "language_info": {
   "codemirror_mode": {
    "name": "ipython",
    "version": 3
   },
   "file_extension": ".py",
   "mimetype": "text/x-python",
   "name": "python",
   "nbconvert_exporter": "python",
   "pygments_lexer": "ipython3",
   "version": "3.6.0"
  }
 },
 "nbformat": 4,
 "nbformat_minor": 2
}
